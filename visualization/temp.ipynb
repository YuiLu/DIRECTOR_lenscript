{
 "cells": [
  {
   "cell_type": "code",
   "execution_count": null,
   "id": "8f481f28",
   "metadata": {},
   "outputs": [],
   "source": [
    "import numpy as np\n",
    "import matplotlib.pyplot as plt\n",
    "from mpl_toolkits.mplot3d import Axes3D\n",
    "import matplotlib.cm as cm\n",
    "import math\n",
    "\n",
    "# Function to create camera frustum based on position, quaternion, and FOV\n",
    "def create_frustum(position, quaternion, fov, scale=0.5):\n",
    "    \"\"\"Create vertices for a camera frustum in 3D space.\"\"\"\n",
    "    # Convert FOV to radians\n",
    "    fov_rad = math.radians(fov)\n",
    "    \n",
    "    # Calculate frustum dimensions\n",
    "    far = scale\n",
    "    height = 2 * far * math.tan(fov_rad / 2)\n",
    "    width = height * (16/9)  # 16:9 aspect ratio\n",
    "    \n",
    "    # Define frustum vertices in camera space\n",
    "    vertices_cam = np.array([\n",
    "        [0, 0, 0],                    # Camera position\n",
    "        [width/2, height/2, -far],    # Top right\n",
    "        [-width/2, height/2, -far],   # Top left\n",
    "        [-width/2, -height/2, -far],  # Bottom left\n",
    "        [width/2, -height/2, -far]    # Bottom right\n",
    "    ])\n",
    "    \n",
    "    # Extract quaternion components (x, y, z, w)\n",
    "    qx, qy, qz, qw = quaternion\n",
    "    \n",
    "    # Convert quaternion to rotation matrix\n",
    "    rotation_matrix = np.array([\n",
    "        [1 - 2*(qy*qy + qz*qz), 2*(qx*qy - qw*qz), 2*(qx*qz + qw*qy)],\n",
    "        [2*(qx*qy + qw*qz), 1 - 2*(qx*qx + qz*qz), 2*(qy*qz - qw*qx)],\n",
    "        [2*(qx*qz - qw*qy), 2*(qy*qz + qw*qx), 1 - 2*(qx*qx + qy*qy)]\n",
    "    ])\n",
    "    \n",
    "    # Transform vertices to world space\n",
    "    vertices_world = np.dot(vertices_cam, rotation_matrix) + position\n",
    "    \n",
    "    return vertices_world\n",
    "\n",
    "plt.show()"
   ]
  }
 ],
 "metadata": {
  "language_info": {
   "name": "python"
  }
 },
 "nbformat": 4,
 "nbformat_minor": 5
}
